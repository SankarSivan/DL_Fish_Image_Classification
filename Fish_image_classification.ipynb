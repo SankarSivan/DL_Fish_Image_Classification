{
  "nbformat": 4,
  "nbformat_minor": 0,
  "metadata": {
    "colab": {
      "provenance": [],
      "mount_file_id": "1FmpBcBKQ26y6R1JmyFfCRfzOxvZlqS23",
      "authorship_tag": "ABX9TyOEQ84KCg8RMSA0ZNpIL4MJ",
      "include_colab_link": true
    },
    "kernelspec": {
      "name": "python3",
      "display_name": "Python 3"
    },
    "language_info": {
      "name": "python"
    }
  },
  "cells": [
    {
      "cell_type": "markdown",
      "metadata": {
        "id": "view-in-github",
        "colab_type": "text"
      },
      "source": [
        "<a href=\"https://colab.research.google.com/github/SankarSivan/DL_Fish_Image_Classification/blob/main/Fish_image_classification.ipynb\" target=\"_parent\"><img src=\"https://colab.research.google.com/assets/colab-badge.svg\" alt=\"Open In Colab\"/></a>"
      ]
    },
    {
      "cell_type": "code",
      "execution_count": 2,
      "metadata": {
        "colab": {
          "base_uri": "https://localhost:8080/"
        },
        "id": "5Ymom8NXAZgJ",
        "outputId": "72281ace-65d3-47ce-9eb5-3c718f578e54"
      },
      "outputs": [
        {
          "output_type": "stream",
          "name": "stdout",
          "text": [
            "unzip:  cannot find or open /content/drive/MyDrive/CNN/Dataset.zip, /content/drive/MyDrive/CNN/Dataset.zip.zip or /content/drive/MyDrive/CNN/Dataset.zip.ZIP.\n"
          ]
        }
      ],
      "source": [
        "# Extract the folders from Zipped file\n",
        "!unzip /content/drive/MyDrive/CNN/Dataset.zip -d /content/drive/MyDrive/CNN/Dataset/"
      ]
    },
    {
      "cell_type": "code",
      "source": [
        "from google.colab import drive\n",
        "drive.mount('/content/drive')"
      ],
      "metadata": {
        "id": "97cam2BpBu8U"
      },
      "execution_count": null,
      "outputs": []
    },
    {
      "cell_type": "code",
      "source": [
        "/content/drive/MyDrive/Fish/Dataset.zip"
      ],
      "metadata": {
        "id": "4pX4e3L7A6ZA"
      },
      "execution_count": null,
      "outputs": []
    },
    {
      "cell_type": "code",
      "source": [
        "#for Google Colab\n",
        "#from google.colab import drive\n",
        "#drive.mount('/content/drive')\n",
        "\n",
        "import tensorflow as tf\n",
        "from tensorflow.keras.preprocessing.image import ImageDataGenerator\n",
        "from tensorflow.keras.applications import VGG16, ResNet50, MobileNet, InceptionV3, EfficientNetB0\n",
        "from tensorflow.keras.models import Sequential\n",
        "from tensorflow.keras.layers import Dense, Dropout, Flatten, Conv2D, MaxPooling2D\n",
        "import numpy as np\n",
        "from sklearn.metrics import classification_report, confusion_matrix\n",
        "import matplotlib.pyplot as plt\n",
        "import seaborn as sns\n",
        "from tensorflow.keras.callbacks import EarlyStopping\n",
        "\n",
        "import pandas as pd\n",
        "from sklearn.utils import class_weight"
      ],
      "metadata": {
        "id": "OmOwHa7vA6UQ"
      },
      "execution_count": 1,
      "outputs": []
    }
  ]
}